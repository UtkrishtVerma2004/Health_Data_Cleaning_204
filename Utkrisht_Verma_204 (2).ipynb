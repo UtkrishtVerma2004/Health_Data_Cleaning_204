{
  "nbformat": 4,
  "nbformat_minor": 0,
  "metadata": {
    "colab": {
      "provenance": []
    },
    "kernelspec": {
      "name": "python3",
      "display_name": "Python 3"
    },
    "language_info": {
      "name": "python"
    }
  },
  "cells": [
    {
      "cell_type": "code",
      "execution_count": 9,
      "metadata": {
        "colab": {
          "base_uri": "https://localhost:8080/"
        },
        "id": "NU6XOw_EMJLC",
        "outputId": "c93a1e7b-09b0-4be5-c279-5156ea102046"
      },
      "outputs": [
        {
          "output_type": "stream",
          "name": "stdout",
          "text": [
            "Original Dataset:\n",
            "    Patient_ID   Age Gender  Blood_Pressure  Cholesterol_Level  Disease_Present\n",
            "0         101  25.0      M           120.0              200.0                0\n",
            "1         102  40.0      F           140.0              240.0                1\n",
            "2         103   NaN   Male           150.0              300.0                1\n",
            "3         104  35.0      F             NaN              150.0                0\n",
            "4         105  29.0    NaN           130.0                NaN                1 \n",
            "\n",
            "Cleaned Dataset:\n",
            "   Patient_ID       Age  Gender  Blood_Pressure  Cholesterol_Level  \\\n",
            "0   -1.414214 -1.417758    Male            -1.5          -0.457851   \n",
            "1   -0.707107  1.515535  Female             0.5           0.356106   \n",
            "2    0.000000  0.000000    Male             1.5           1.577042   \n",
            "3    0.707107  0.537770  Female             0.0          -1.475297   \n",
            "4    1.414214 -0.635547  Female            -0.5           0.000000   \n",
            "\n",
            "   Disease_Present  \n",
            "0        -1.224745  \n",
            "1         0.816497  \n",
            "2         0.816497  \n",
            "3        -1.224745  \n",
            "4         0.816497  \n",
            "\n",
            "Cleaned data saved to 'cleaned_healthcare_data.csv'.\n"
          ]
        }
      ],
      "source": [
        "import pandas as pd\n",
        "import numpy as np\n",
        "from sklearn.impute import SimpleImputer\n",
        "from sklearn.preprocessing import StandardScaler\n",
        "\n",
        "# Sample healthcare data\n",
        "data = {\n",
        "    \"Patient_ID\": [101, 102, 103, 104, 105],\n",
        "    \"Age\": [25, 40, np.nan, 35, 29],\n",
        "    \"Gender\": [\"M\", \"F\", \"Male\", \"F\", np.nan],\n",
        "    \"Blood_Pressure\": [120, 140, 150, np.nan, 130],\n",
        "    \"Cholesterol_Level\": [200, 240, 300, 150, np.nan],\n",
        "    \"Disease_Present\": [0, 1, 1, 0, 1],  # 0: No, 1: Yes\n",
        "}\n",
        "\n",
        "# Create DataFrame\n",
        "df = pd.DataFrame(data)\n",
        "\n",
        "# Display original dataset\n",
        "print(\"Original Dataset:\\n\", df, \"\\n\")\n",
        "\n",
        "# Handle missing values\n",
        "# Replace missing numerical values with the mean\n",
        "imputer = SimpleImputer(strategy=\"mean\")\n",
        "numerical_columns = df.select_dtypes(include=[np.number]).columns\n",
        "df[numerical_columns] = imputer.fit_transform(df[numerical_columns])\n",
        "\n",
        "# Replace missing categorical values with the most frequent value\n",
        "imputer_cat = SimpleImputer(strategy=\"most_frequent\")\n",
        "categorical_columns = df.select_dtypes(include=[\"object\"]).columns\n",
        "df[categorical_columns] = imputer_cat.fit_transform(df[categorical_columns])\n",
        "\n",
        "# Standardize inconsistent categorical data\n",
        "df[\"Gender\"] = df[\"Gender\"].replace({\"M\": \"Male\", \"F\": \"Female\"})\n",
        "\n",
        "# Remove noisy data\n",
        "# Example: Removing extreme outliers in numerical columns using IQR\n",
        "for col in numerical_columns:\n",
        "    q1 = df[col].quantile(0.25)\n",
        "    q3 = df[col].quantile(0.75)\n",
        "    iqr = q3 - q1\n",
        "    lower_bound = q1 - 1.5 * iqr\n",
        "    upper_bound = q3 + 1.5 * iqr\n",
        "    df = df[(df[col] >= lower_bound) & (df[col] <= upper_bound)]\n",
        "\n",
        "# Standardize numerical columns for scaling\n",
        "scaler = StandardScaler()\n",
        "df[numerical_columns] = scaler.fit_transform(df[numerical_columns])\n",
        "\n",
        "# Save cleaned dataset as CSV file\n",
        "csv_filename = \"cleaned_healthcare_data.csv\"\n",
        "df.to_csv(csv_filename, index=False)\n",
        "print(f\"Cleaned Dataset:\\n{df}\\n\")\n",
        "print(f\"Cleaned data saved to '{csv_filename}'.\")\n"
      ]
    }
  ]
}